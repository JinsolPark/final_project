{
 "cells": [
  {
   "cell_type": "code",
   "execution_count": 1,
   "id": "106dff3a",
   "metadata": {},
   "outputs": [],
   "source": [
    "#-- EDA tool--#\n",
    "import numpy as np\n",
    "import pandas as pd\n",
    "import seaborn as sns\n",
    "\n",
    "import matplotlib.pyplot as plt\n",
    "import matplotlib.font_manager as fm\n",
    "font_name = fm.FontProperties(fname=\"C:/Windows/Fonts/malgun.ttf\").get_name()\n",
    "plt.rc(\"font\", family=font_name)\n",
    "import matplotlib as mlp\n",
    "mlp.rcParams[\"axes.unicode_minus\"] = False\n",
    "\n",
    "import warnings\n",
    "warnings.filterwarnings(\"ignore\")"
   ]
  },
  {
   "cell_type": "code",
   "execution_count": 2,
   "id": "6aa60045",
   "metadata": {},
   "outputs": [],
   "source": [
    "auction = pd.read_csv(\"data/auction/부동산경매데이터_전체.csv\")"
   ]
  },
  {
   "cell_type": "code",
   "execution_count": 3,
   "id": "e4625bee",
   "metadata": {
    "collapsed": true
   },
   "outputs": [
    {
     "data": {
      "text/html": [
       "<div>\n",
       "<style scoped>\n",
       "    .dataframe tbody tr th:only-of-type {\n",
       "        vertical-align: middle;\n",
       "    }\n",
       "\n",
       "    .dataframe tbody tr th {\n",
       "        vertical-align: top;\n",
       "    }\n",
       "\n",
       "    .dataframe thead th {\n",
       "        text-align: right;\n",
       "    }\n",
       "</style>\n",
       "<table border=\"1\" class=\"dataframe\">\n",
       "  <thead>\n",
       "    <tr style=\"text-align: right;\">\n",
       "      <th></th>\n",
       "      <th>office</th>\n",
       "      <th>num</th>\n",
       "      <th>cat</th>\n",
       "      <th>addr</th>\n",
       "      <th>build_area</th>\n",
       "      <th>land_area</th>\n",
       "      <th>price</th>\n",
       "      <th>lowest</th>\n",
       "      <th>result</th>\n",
       "      <th>date</th>\n",
       "      <th>status</th>\n",
       "      <th>low_per</th>\n",
       "      <th>res_per</th>\n",
       "      <th>comment</th>\n",
       "    </tr>\n",
       "  </thead>\n",
       "  <tbody>\n",
       "    <tr>\n",
       "      <th>0</th>\n",
       "      <td>서울동부1계</td>\n",
       "      <td>2020-52099</td>\n",
       "      <td>아파트</td>\n",
       "      <td>서울특별시 송파구 잠실동 22, 265동 22층2201호 (잠실동,리센츠)</td>\n",
       "      <td>124.22㎡ (37.58평)</td>\n",
       "      <td>58.63㎡ (17.74평)</td>\n",
       "      <td>2,520,000,000</td>\n",
       "      <td>2,520,000,000</td>\n",
       "      <td>NaN</td>\n",
       "      <td>2021-08-02(10:00)입찰 7일전\\t</td>\n",
       "      <td>신건</td>\n",
       "      <td>100%</td>\n",
       "      <td>NaN</td>\n",
       "      <td>NaN</td>\n",
       "    </tr>\n",
       "    <tr>\n",
       "      <th>1</th>\n",
       "      <td>서울동부1계</td>\n",
       "      <td>2020-55340</td>\n",
       "      <td>아파트</td>\n",
       "      <td>서울특별시 성동구 성수동1가 718, 103동 29층2902호 (성수동1가,트리마제)</td>\n",
       "      <td>84.5402㎡ (25.57평)</td>\n",
       "      <td>37.6321㎡ (11.38평)</td>\n",
       "      <td>3,100,000,000</td>\n",
       "      <td>2,480,000,000</td>\n",
       "      <td>NaN</td>\n",
       "      <td>2021-08-02(10:00)입찰 7일전\\t</td>\n",
       "      <td>유찰1회</td>\n",
       "      <td>80%</td>\n",
       "      <td>NaN</td>\n",
       "      <td>NaN</td>\n",
       "    </tr>\n",
       "    <tr>\n",
       "      <th>2</th>\n",
       "      <td>서울동부1계</td>\n",
       "      <td>2020-56640</td>\n",
       "      <td>아파트</td>\n",
       "      <td>서울특별시 광진구 구의동 587-58, 3층303호</td>\n",
       "      <td>165.14㎡ (49.95평)</td>\n",
       "      <td>74.3㎡ (22.48평)</td>\n",
       "      <td>1,330,000,000</td>\n",
       "      <td>1,064,000,000</td>\n",
       "      <td>NaN</td>\n",
       "      <td>2021-08-02(10:00)입찰 7일전\\t</td>\n",
       "      <td>유찰1회</td>\n",
       "      <td>80%</td>\n",
       "      <td>NaN</td>\n",
       "      <td>NaN</td>\n",
       "    </tr>\n",
       "    <tr>\n",
       "      <th>3</th>\n",
       "      <td>서울중앙10계</td>\n",
       "      <td>2020-3254</td>\n",
       "      <td>아파트</td>\n",
       "      <td>서울특별시 동작구 상도동 418, 101동 9층906호 (상도동,쌍용스윗닷홈)</td>\n",
       "      <td>59.578㎡ (18.02평)</td>\n",
       "      <td>38.427㎡ (11.62평)</td>\n",
       "      <td>736,000,000</td>\n",
       "      <td>736,000,000</td>\n",
       "      <td>NaN</td>\n",
       "      <td>2021-08-04(10:00)입찰 9일전\\t</td>\n",
       "      <td>신건</td>\n",
       "      <td>100%</td>\n",
       "      <td>NaN</td>\n",
       "      <td>NaN</td>\n",
       "    </tr>\n",
       "    <tr>\n",
       "      <th>4</th>\n",
       "      <td>서울중앙10계</td>\n",
       "      <td>2020-3339</td>\n",
       "      <td>아파트</td>\n",
       "      <td>서울특별시 강남구 개포동 1280, 213동 13층1304호 (개포동,래미안블레스티지)</td>\n",
       "      <td>29.72㎡ (8.99평)</td>\n",
       "      <td>29.72㎡ (8.99평)</td>\n",
       "      <td>1,585,000,000</td>\n",
       "      <td>1,585,000,000</td>\n",
       "      <td>NaN</td>\n",
       "      <td>2021-08-04(10:00)입찰 9일전\\t</td>\n",
       "      <td>신건</td>\n",
       "      <td>100%</td>\n",
       "      <td>NaN</td>\n",
       "      <td>지분매각,토지및건물 지분매각</td>\n",
       "    </tr>\n",
       "  </tbody>\n",
       "</table>\n",
       "</div>"
      ],
      "text/plain": [
       "    office         num  cat                                              addr  \\\n",
       "0   서울동부1계  2020-52099  아파트         서울특별시 송파구 잠실동 22, 265동 22층2201호 (잠실동,리센츠)   \n",
       "1   서울동부1계  2020-55340  아파트   서울특별시 성동구 성수동1가 718, 103동 29층2902호 (성수동1가,트리마제)   \n",
       "2   서울동부1계  2020-56640  아파트                      서울특별시 광진구 구의동 587-58, 3층303호   \n",
       "3  서울중앙10계   2020-3254  아파트       서울특별시 동작구 상도동 418, 101동 9층906호 (상도동,쌍용스윗닷홈)   \n",
       "4  서울중앙10계   2020-3339  아파트  서울특별시 강남구 개포동 1280, 213동 13층1304호 (개포동,래미안블레스티지)   \n",
       "\n",
       "          build_area          land_area          price         lowest result  \\\n",
       "0   124.22㎡ (37.58평)    58.63㎡ (17.74평)  2,520,000,000  2,520,000,000    NaN   \n",
       "1  84.5402㎡ (25.57평)  37.6321㎡ (11.38평)  3,100,000,000  2,480,000,000    NaN   \n",
       "2   165.14㎡ (49.95평)     74.3㎡ (22.48평)  1,330,000,000  1,064,000,000    NaN   \n",
       "3   59.578㎡ (18.02평)   38.427㎡ (11.62평)    736,000,000    736,000,000    NaN   \n",
       "4     29.72㎡ (8.99평)     29.72㎡ (8.99평)  1,585,000,000  1,585,000,000    NaN   \n",
       "\n",
       "                        date status low_per res_per          comment  \n",
       "0  2021-08-02(10:00)입찰 7일전\\t     신건    100%     NaN              NaN  \n",
       "1  2021-08-02(10:00)입찰 7일전\\t   유찰1회     80%     NaN              NaN  \n",
       "2  2021-08-02(10:00)입찰 7일전\\t   유찰1회     80%     NaN              NaN  \n",
       "3  2021-08-04(10:00)입찰 9일전\\t     신건    100%     NaN              NaN  \n",
       "4  2021-08-04(10:00)입찰 9일전\\t     신건    100%     NaN  지분매각,토지및건물 지분매각  "
      ]
     },
     "execution_count": 3,
     "metadata": {},
     "output_type": "execute_result"
    }
   ],
   "source": [
    "auction.head()"
   ]
  },
  {
   "cell_type": "code",
   "execution_count": 32,
   "id": "910b7e5e",
   "metadata": {},
   "outputs": [],
   "source": [
    "import re"
   ]
  },
  {
   "cell_type": "code",
   "execution_count": 35,
   "id": "bc0112f7",
   "metadata": {},
   "outputs": [
    {
     "name": "stdout",
     "output_type": "stream",
     "text": [
      "{'선순위가등기', '유치권에의한경매', '공유물분할경매', '유치권', '법정지상권', '대지권미등기', '대항력있는임차인', '공동담보', '재매각', '건물만매각', '선순위임차권', '지분매각', '임금채권', '별도등기', '형식적경매', '토지및건물 지분매각', '선순위전세권'}\n"
     ]
    }
   ],
   "source": [
    "com = list(auction.comment.unique())\n",
    "comment = []\n",
    "for x in com:\n",
    "    if pd.notnull(x):\n",
    "        tmp = x.split(\",\")\n",
    "        comment.extend(tmp)\n",
    "comment = set(comment)\n",
    "print(comment)"
   ]
  },
  {
   "cell_type": "code",
   "execution_count": 36,
   "id": "c26f737a",
   "metadata": {},
   "outputs": [
    {
     "data": {
      "text/plain": [
       "{'건물만매각',\n",
       " '공동담보',\n",
       " '공유물분할경매',\n",
       " '대지권미등기',\n",
       " '대항력있는임차인',\n",
       " '법정지상권',\n",
       " '별도등기',\n",
       " '선순위가등기',\n",
       " '선순위임차권',\n",
       " '선순위전세권',\n",
       " '유치권',\n",
       " '유치권에의한경매',\n",
       " '임금채권',\n",
       " '재매각',\n",
       " '지분매각',\n",
       " '토지및건물 지분매각',\n",
       " '형식적경매'}"
      ]
     },
     "execution_count": 36,
     "metadata": {},
     "output_type": "execute_result"
    }
   ],
   "source": [
    "comment"
   ]
  },
  {
   "cell_type": "code",
   "execution_count": null,
   "id": "91b2a1f4",
   "metadata": {},
   "outputs": [],
   "source": []
  }
 ],
 "metadata": {
  "kernelspec": {
   "display_name": "Python 3",
   "language": "python",
   "name": "python3"
  },
  "language_info": {
   "codemirror_mode": {
    "name": "ipython",
    "version": 3
   },
   "file_extension": ".py",
   "mimetype": "text/x-python",
   "name": "python",
   "nbconvert_exporter": "python",
   "pygments_lexer": "ipython3",
   "version": "3.7.10"
  }
 },
 "nbformat": 4,
 "nbformat_minor": 5
}
