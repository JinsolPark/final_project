{
 "cells": [
  {
   "cell_type": "code",
   "execution_count": 1,
   "id": "b983ed91",
   "metadata": {},
   "outputs": [],
   "source": [
    "import tensorflow as tf\n",
    "import matplotlib.pyplot as plt\n",
    "import pandas as pd\n",
    "import numpy as np\n",
    "from sklearn.preprocessing import MinMaxScaler\n",
    "from sklearn.preprocessing import LabelEncoder\n",
    "from sklearn.preprocessing import OneHotEncoder\n",
    "from sklearn.preprocessing import StandardScaler\n",
    "from sklearn.model_selection import train_test_split"
   ]
  },
  {
   "cell_type": "code",
   "execution_count": null,
   "id": "41f90c4c",
   "metadata": {},
   "outputs": [],
   "source": [
    "##### Rogistic Classification\n",
    "\n",
    "x = tf.placeholder(tf.float32,[None,])\n",
    "y = tf.placeholder(tf.float32,[None,1])\n",
    "\n",
    "w = tf.Variable(tf.random_normal([,1]))\n",
    "b = tf.Variable(tf.random_normal([1]))\n",
    "\n",
    "hypothesis = tf.nn.sigmoid(tf.matmul(x,w)+b)\n",
    "cost = -tf.reduce_mean(y*tf.log(hypothesis) + (1-y)*tf.log(1-hypothesis))\n",
    "optimizer = tf.train.GradientDescentOptimizer(learning_rate=0.001).minimize(cost)\n",
    "\n",
    "prediction = tf.cast(hypothesis > 0.5,tf.float32)\n",
    "accuracy = tf.reduce_mean(tf.cast(tf.equal(prediction,y)))"
   ]
  },
  {
   "cell_type": "code",
   "execution_count": null,
   "id": "8c4ffeae",
   "metadata": {},
   "outputs": [],
   "source": []
  }
 ],
 "metadata": {
  "kernelspec": {
   "display_name": "Python 3",
   "language": "python",
   "name": "python3"
  },
  "language_info": {
   "codemirror_mode": {
    "name": "ipython",
    "version": 3
   },
   "file_extension": ".py",
   "mimetype": "text/x-python",
   "name": "python",
   "nbconvert_exporter": "python",
   "pygments_lexer": "ipython3",
   "version": "3.7.10"
  }
 },
 "nbformat": 4,
 "nbformat_minor": 5
}
